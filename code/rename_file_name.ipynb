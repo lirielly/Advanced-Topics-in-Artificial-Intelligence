{
 "cells": [
  {
   "cell_type": "code",
   "execution_count": 2,
   "metadata": {},
   "outputs": [],
   "source": [
    "import os\n",
    "idx = 2728\n",
    "\n",
    "for i in range(1, 527):\n",
    "    # Absolute path of a file\n",
    "    old_name = r\"C:\\Users\\vitorugo\\Downloads\\dogs-vs-cats\\Butterfly_test\\butterfly.\" + str(i) + \".jpg\"\n",
    "    new_name = r\"C:\\Users\\vitorugo\\Downloads\\dogs-vs-cats\\Butterfly_test\\butterfly.\" + str(idx) + \".jpg\"\n",
    "    idx += 1\n",
    "\n",
    "    # Renaming the file\n",
    "    os.rename(old_name, new_name)"
   ]
  }
 ],
 "metadata": {
  "kernelspec": {
   "display_name": "Python 3.9.13 ('env_sodp')",
   "language": "python",
   "name": "python3"
  },
  "language_info": {
   "codemirror_mode": {
    "name": "ipython",
    "version": 3
   },
   "file_extension": ".py",
   "mimetype": "text/x-python",
   "name": "python",
   "nbconvert_exporter": "python",
   "pygments_lexer": "ipython3",
   "version": "3.9.13"
  },
  "orig_nbformat": 4,
  "vscode": {
   "interpreter": {
    "hash": "8d1a64b2e44684126e487d718c79a9b9bd3365d12ab34891d2e0a53cba15b6e4"
   }
  }
 },
 "nbformat": 4,
 "nbformat_minor": 2
}
