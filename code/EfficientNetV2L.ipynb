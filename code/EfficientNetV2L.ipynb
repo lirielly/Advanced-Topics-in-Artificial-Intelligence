{
 "cells": [
  {
   "cell_type": "code",
   "execution_count": 3,
   "metadata": {},
   "outputs": [],
   "source": [
    "# import libraries\n",
    "from keras.layers import Dense\n",
    "from keras.layers import Flatten\n",
    "from keras.optimizers import SGD\n",
    "from keras.preprocessing.image import ImageDataGenerator\n",
    "from keras.applications.efficientnet_v2 import EfficientNetV2L\n",
    "from keras.models import Model\n",
    "from matplotlib import pyplot\n",
    "import sys"
   ]
  },
  {
   "cell_type": "code",
   "execution_count": 4,
   "metadata": {},
   "outputs": [],
   "source": [
    "train_path = 'C:/Users/linascim/Downloads/dataset_dogs_vs_cats/train/'\n",
    "test_path = 'C:/Users/linascim/Downloads/dataset_dogs_vs_cats/test/'"
   ]
  },
  {
   "cell_type": "code",
   "execution_count": 5,
   "metadata": {},
   "outputs": [
    {
     "name": "stdout",
     "output_type": "stream",
     "text": [
      "Downloading data from https://storage.googleapis.com/tensorflow/keras-applications/efficientnet_v2/efficientnetv2-l_notop.h5\n",
      "473176280/473176280 [==============================] - 22s 0us/step\n",
      "Found 18612 images belonging to 2 classes.\n",
      "Found 6279 images belonging to 2 classes.\n",
      "Epoch 1/10\n",
      "291/291 [==============================] - 6332s 22s/step - loss: 0.0574 - accuracy: 0.9796 - val_loss: 0.0430 - val_accuracy: 0.9863\n",
      "Epoch 2/10\n",
      "291/291 [==============================] - 5482s 19s/step - loss: 0.0352 - accuracy: 0.9879 - val_loss: 0.0405 - val_accuracy: 0.9861\n",
      "Epoch 3/10\n",
      "291/291 [==============================] - 5172s 18s/step - loss: 0.0261 - accuracy: 0.9907 - val_loss: 0.0425 - val_accuracy: 0.9850\n",
      "Epoch 4/10\n",
      "291/291 [==============================] - 5200s 18s/step - loss: 0.0210 - accuracy: 0.9931 - val_loss: 0.0387 - val_accuracy: 0.9869\n",
      "Epoch 5/10\n",
      "291/291 [==============================] - 5245s 18s/step - loss: 0.0186 - accuracy: 0.9940 - val_loss: 0.0391 - val_accuracy: 0.9868\n",
      "Epoch 6/10\n",
      "291/291 [==============================] - 5849s 20s/step - loss: 0.0154 - accuracy: 0.9950 - val_loss: 0.0441 - val_accuracy: 0.9863\n",
      "Epoch 7/10\n",
      "291/291 [==============================] - 5008s 17s/step - loss: 0.0132 - accuracy: 0.9959 - val_loss: 0.0396 - val_accuracy: 0.9865\n",
      "Epoch 8/10\n",
      "291/291 [==============================] - 5009s 17s/step - loss: 0.0112 - accuracy: 0.9970 - val_loss: 0.0428 - val_accuracy: 0.9866\n",
      "Epoch 9/10\n",
      "291/291 [==============================] - 4972s 17s/step - loss: 0.0116 - accuracy: 0.9964 - val_loss: 0.0432 - val_accuracy: 0.9863\n",
      "Epoch 10/10\n",
      "291/291 [==============================] - 4984s 17s/step - loss: 0.0108 - accuracy: 0.9969 - val_loss: 0.0431 - val_accuracy: 0.9868\n",
      "> 98.678\n"
     ]
    },
    {
     "data": {
      "image/png": "[encoded data removed]",
      "text/plain": [
       "<Figure size 432x288 with 2 Axes>"
      ]
     },
     "metadata": {
      "needs_background": "light"
     },
     "output_type": "display_data"
    }
   ],
   "source": [
    "# EfficientNetV2L model used for transfer learning on the dogs and cats dataset\n",
    "\n",
    "# define cnn model\n",
    "def define_model():\n",
    "\t# load model\n",
    "\tmodel = EfficientNetV2L(include_top=False, input_shape=(224, 224, 3))\n",
    "\t# mark loaded layers as not trainable\n",
    "\tfor layer in model.layers:\n",
    "\t\tlayer.trainable = False\n",
    "\t# add new classifier layers\n",
    "\tflat1 = Flatten()(model.layers[-1].output)\n",
    "\tclass1 = Dense(128, activation='relu', kernel_initializer='he_uniform')(flat1)\n",
    "\toutput = Dense(1, activation='sigmoid')(class1)\n",
    "\t# define new model\n",
    "\tmodel = Model(inputs=model.inputs, outputs=output)\n",
    "\t# compile model\n",
    "\topt = SGD(learning_rate=0.001, momentum=0.9)\n",
    "\tmodel.compile(optimizer=opt, loss='binary_crossentropy', metrics=['accuracy'])\n",
    "\treturn model\n",
    "\n",
    "\n",
    "# plot diagnostic learning curves\n",
    "def summarize_diagnostics(history):\n",
    "\t# plot loss\n",
    "\tpyplot.subplot(211)\n",
    "\tpyplot.title('Cross Entropy Loss')\n",
    "\tpyplot.plot(history.history['loss'], color='blue', label='train')\n",
    "\tpyplot.plot(history.history['val_loss'], color='orange', label='test')\n",
    "\t# plot accuracy\n",
    "\tpyplot.subplot(212)\n",
    "\tpyplot.title('Classification Accuracy')\n",
    "\tpyplot.plot(history.history['accuracy'], color='blue', label='train')\n",
    "\tpyplot.plot(history.history['val_accuracy'], color='orange', label='test')\n",
    "\t# save plot to file\n",
    "\tfilename = sys.argv[0].split('/')[-1]\n",
    "\tpyplot.savefig(filename + '_plot.png')\n",
    "\tpyplot.show()\n",
    "\tpyplot.close()\n",
    "\n",
    "\n",
    "# run the test harness for evaluating a model\n",
    "def run_test_harness():\n",
    "\t# define model\n",
    "\tmodel = define_model()\n",
    "\t# create data generator\n",
    "\tdatagen = ImageDataGenerator(featurewise_center=True)\n",
    "\t# specify imagenet mean values for centering\n",
    "\tdatagen.mean = [123.68, 116.779, 103.939]\n",
    "\t# prepare iterator\n",
    "\ttrain_it = datagen.flow_from_directory(train_path,\n",
    "\t\tclass_mode='binary', batch_size=64, target_size=(224, 224))\n",
    "\ttest_it = datagen.flow_from_directory(test_path,\n",
    "\t\tclass_mode='binary', batch_size=64, target_size=(224, 224))\n",
    "\t# fit model\n",
    "\thistory = model.fit(train_it, steps_per_epoch=len(train_it),\n",
    "\t\tvalidation_data=test_it, validation_steps=len(test_it), epochs=10, verbose=1)\n",
    "\t# evaluate model\n",
    "\t_, acc = model.evaluate(test_it, steps=len(test_it), verbose=0)\n",
    "\tprint('> %.3f' % (acc * 100.0))\n",
    "\t# learning curves\n",
    "\tsummarize_diagnostics(history)\n",
    "\n",
    "# entry point, run the test harness\n",
    "run_test_harness()"
   ]
  }
 ],
 "metadata": {
  "kernelspec": {
   "display_name": "Python 3.9.13 ('env_sodp')",
   "language": "python",
   "name": "python3"
  },
  "language_info": {
   "codemirror_mode": {
    "name": "ipython",
    "version": 3
   },
   "file_extension": ".py",
   "mimetype": "text/x-python",
   "name": "python",
   "nbconvert_exporter": "python",
   "pygments_lexer": "ipython3",
   "version": "3.9.13"
  },
  "orig_nbformat": 4,
  "vscode": {
   "interpreter": {
    "hash": "8d1a64b2e44684126e487d718c79a9b9bd3365d12ab34891d2e0a53cba15b6e4"
   }
  }
 },
 "nbformat": 4,
 "nbformat_minor": 2
}
