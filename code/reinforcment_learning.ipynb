{
  "cells": [
    {
      "cell_type": "code",
      "execution_count": null,
      "metadata": {
        "colab": {
          "base_uri": "https://localhost:8080/"
        },
        "id": "H4sepUMjnHDR",
        "outputId": "c05b09ba-d64d-4c84-8689-fb7b02eb1e82"
      },
      "outputs": [],
      "source": [
        "!pip install imbDRL\n",
        "!pip install --upgrade tensorflow-gpu"
      ]
    },
    {
      "cell_type": "code",
      "execution_count": 3,
      "metadata": {
        "colab": {
          "base_uri": "https://localhost:8080/"
        },
        "id": "DnlhFAoTnGDg",
        "outputId": "4f7339a0-4cea-44a8-c081-d258453b9517"
      },
      "outputs": [
        {
          "name": "stdout",
          "output_type": "stream",
          "text": [
            "Mounted at /content/drive\n"
          ]
        }
      ],
      "source": [
        "import csv\n",
        "import os\n",
        "\n",
        "from imbDRL.agents.ddqn import TrainDDQN\n",
        "from imbDRL.data import get_train_test_val, load_csv\n",
        "from imbDRL.metrics import classification_metrics, network_predictions\n",
        "from tensorflow.keras.layers import Conv2D, Dense, Flatten, MaxPooling2D, Dropout\n",
        "from tqdm import tqdm\n",
        "from numpy import load\n",
        "import numpy as np\n",
        "from sklearn.model_selection import train_test_split\n",
        "\n",
        "import warnings\n",
        "warnings.filterwarnings(\"ignore\")\n",
        "\n",
        "from google.colab import drive\n",
        "drive.mount('/content/drive')"
      ]
    },
    {
      "cell_type": "code",
      "execution_count": 12,
      "metadata": {
        "colab": {
          "base_uri": "https://localhost:8080/"
        },
        "id": "mtkR41pKomVi",
        "outputId": "bbff005d-9e9b-4b66-b937-08ed27969fc8"
      },
      "outputs": [
        {
          "name": "stdout",
          "output_type": "stream",
          "text": [
            "(1000, 200, 200, 3) (1000,)\n"
          ]
        }
      ],
      "source": [
        "photos = load('./drive/MyDrive/AI/dogs_vs_cats_photos.npy')\n",
        "labels = load('./drive/MyDrive/AI/dogs_vs_cats_labels.npy')\n",
        "#photos = photos.reshape(1000, 200*200*3)\n",
        "labels = labels.astype(int)\n",
        "print(photos.shape, labels.shape)\n"
      ]
    },
    {
      "cell_type": "code",
      "execution_count": 13,
      "metadata": {
        "id": "fO0-gm8HnWIn"
      },
      "outputs": [],
      "source": [
        "# load and confirm the shape\n",
        "X_train, X_test, y_train, y_test = train_test_split(photos, labels, test_size=0.2, random_state=42, stratify=labels)\n",
        "X_train, X_val, y_train, y_val = train_test_split(X_train, y_train, test_size=0.1, random_state=42, stratify=y_train)"
      ]
    },
    {
      "cell_type": "code",
      "execution_count": null,
      "metadata": {
        "colab": {
          "base_uri": "https://localhost:8080/"
        },
        "id": "f4RGpduIm96H",
        "outputId": "94d82b5a-7406-4c8c-f094-cb16b53bf558"
      },
      "outputs": [
        {
          "name": "stderr",
          "output_type": "stream",
          "text": [
            "\r  0%|          | 0/10 [00:00<?, ?it/s]WARNING:tensorflow:From /usr/local/lib/python3.8/dist-packages/tf_agents/replay_buffers/tf_uniform_replay_buffer.py:342: CounterV2 (from tensorflow.python.data.experimental.ops.counter) is deprecated and will be removed in a future version.\n",
            "Instructions for updating:\n",
            "Use `tf.data.Dataset.counter(...)` instead.\n",
            "WARNING:tensorflow:From /usr/local/lib/python3.8/dist-packages/tensorflow/python/autograph/impl/api.py:377: ReplayBuffer.get_next (from tf_agents.replay_buffers.replay_buffer) is deprecated and will be removed in a future version.\n",
            "Instructions for updating:\n",
            "Use `as_dataset(..., single_deterministic_pass=False) instead.\n",
            "WARNING:tensorflow:From /usr/local/lib/python3.8/dist-packages/tensorflow/python/autograph/pyct/static_analysis/liveness.py:83: Analyzer.lamba_check (from tensorflow.python.autograph.pyct.static_analysis.liveness) is deprecated and will be removed after 2023-09-23.\n",
            "Instructions for updating:\n",
            "Lambda fuctions will be no more assumed to be used in the statement where they are used, or at least in the same block. https://github.com/tensorflow/tensorflow/issues/56089\n",
            "WARNING:tensorflow:From /usr/local/lib/python3.8/dist-packages/tensorflow/python/util/dispatch.py:1176: calling foldr_v2 (from tensorflow.python.ops.functional_ops) with back_prop=False is deprecated and will be removed in a future version.\n",
            "Instructions for updating:\n",
            "back_prop=False is deprecated. Consider using tf.stop_gradient instead.\n",
            "Instead of:\n",
            "results = tf.foldr(fn, elems, back_prop=False)\n",
            "Use:\n",
            "results = tf.nest.map_structure(tf.stop_gradient, tf.foldr(fn, elems))\n"
          ]
        }
      ],
      "source": [
        "os.environ[\"CUDA_VISIBLE_DEVICES\"] = \"-1\"  \n",
        "\n",
        "layers = [Conv2D(32, (5, 5), padding=\"Same\", activation=\"relu\"),\n",
        "          MaxPooling2D(pool_size=(2, 2)),\n",
        "          Conv2D(32, (5, 5), padding=\"Same\", activation=\"relu\"),\n",
        "          MaxPooling2D(pool_size=(2, 2)),\n",
        "          Flatten(),\n",
        "          Dense(256, activation=\"relu\"),\n",
        "          Dense(2, activation=None)]\n",
        "\n",
        "episodes = 12_000  # Total episodes\n",
        "warmup_steps = 5_000  # Amount of warmup steps to collect data with random policy\n",
        "memory_length = 10_000  # Max length of the Replay Memory\n",
        "collect_steps_per_episode = 1\n",
        "target_update_period = 1_000\n",
        "target_update_tau = 1\n",
        "batch_size = 32\n",
        "n_step_update = 4\n",
        "\n",
        "learning_rate = 0.00025  # Learning rate\n",
        "gamma = 0.1  # Discount factor\n",
        "min_epsilon = 0.01  # Minimal and final chance of choosing random action\n",
        "decay_episodes = 10_000  # Number of episodes to decay from 1.0 to `min_epsilon`\n",
        "\n",
        "fp_dqn = \"./results/dqn.csv\"\n",
        "fieldnames = (\"Gmean\", \"F1\", \"Precision\", \"Recall\", \"TP\", \"TN\", \"FP\", \"FN\")\n",
        "\n",
        "# Create empty files\n",
        "with open(fp_dqn, \"w\", newline=\"\") as f:\n",
        "    writer = csv.DictWriter(f, fieldnames=fieldnames)\n",
        "    writer.writeheader()\n",
        "\n",
        "# Run the model ten times\n",
        "for _ in tqdm(range(10)):\n",
        "    # New train-test split\n",
        "\n",
        "    model = TrainDDQN(episodes, warmup_steps, learning_rate, gamma, min_epsilon, decay_episodes, target_update_tau=target_update_tau,\n",
        "                          collect_steps_per_episode=collect_steps_per_episode, target_update_period=target_update_period,\n",
        "                          n_step_update=n_step_update, batch_size=batch_size, memory_length=memory_length, progressbar=False)\n",
        "\n",
        "    model.compile_model(X_train, y_train, layers)\n",
        "    model.train(X_val, y_val, \"F1\")\n",
        "\n",
        "    # Predictions of model for `X_test`\n",
        "    best_network = model.load_network(fp=model.model_path)\n",
        "    y_pred = network_predictions(best_network, X_test)\n",
        "    dqn_stats = classification_metrics(y_test, y_pred)\n",
        "\n",
        "    # Write current DQN run to `fp_dqn`\n",
        "    with open(fp_dqn, \"a\", newline=\"\") as f:\n",
        "        writer = csv.DictWriter(f, fieldnames=fieldnames)\n",
        "        writer.writerow(dqn_stats)"
      ]
    }
  ],
  "metadata": {
    "accelerator": "GPU",
    "colab": {
      "provenance": []
    },
    "gpuClass": "standard",
    "kernelspec": {
      "display_name": "env_sodp",
      "language": "python",
      "name": "python3"
    },
    "language_info": {
      "name": "python",
      "version": "3.9.13 (tags/v3.9.13:6de2ca5, May 17 2022, 16:36:42) [MSC v.1929 64 bit (AMD64)]"
    },
    "vscode": {
      "interpreter": {
        "hash": "8d1a64b2e44684126e487d718c79a9b9bd3365d12ab34891d2e0a53cba15b6e4"
      }
    }
  },
  "nbformat": 4,
  "nbformat_minor": 0
}
